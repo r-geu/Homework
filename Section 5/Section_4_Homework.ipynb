{
 "cells": [
  {
   "cell_type": "markdown",
   "metadata": {},
   "source": [
    "### Section 5 Homework\n",
    "\n",
    "1. What does Pandas stand for?\n",
    "2. What are the 2 collections used in Pandas?\n",
    "3. Name 4 things Pandas can do for us.\n",
    "4. To permanently sort a DataFrame, which keyword should one use with the df.sort() method?\n",
    "5. What is a CSV?\n",
    "6. When cleaning data what values do we not like in our data?\n"
   ]
  },
  {
   "cell_type": "code",
   "execution_count": 6,
   "metadata": {},
   "outputs": [
    {
     "name": "stdout",
     "output_type": "stream",
     "text": [
      "[2 3 2]\n"
     ]
    }
   ],
   "source": [
    "# Import NumPy, use one of the NumPy methods and create an array with a shape of (2, 3, 2). You can use the reshape method -- .reshape()\n",
    "import numpy as np\n",
    "array1 = np.array ([2, 3, 2])\n",
    "array1.reshape (1, 3)\n",
    "print(array1)\n"
   ]
  },
  {
   "cell_type": "code",
   "execution_count": 9,
   "metadata": {},
   "outputs": [
    {
     "name": "stdout",
     "output_type": "stream",
     "text": [
      "[ 0.  4.  8. 12. 16. 20.]\n"
     ]
    }
   ],
   "source": [
    "# Use NumPy .linspace() to create an array with 6 linearly spaced values between 0 and \n",
    "array = np.linspace(0, 20, 6)\n",
    "\n",
    "print(array)"
   ]
  },
  {
   "cell_type": "code",
   "execution_count": 11,
   "metadata": {},
   "outputs": [
    {
     "name": "stdout",
     "output_type": "stream",
     "text": [
      "[ 0.  4.  8. 12. 16. 20.]\n",
      "[ 0.  4.  8. 12. 16. 20.]\n"
     ]
    }
   ],
   "source": [
    "# Make a Deep Copy of the above array\n",
    "import copy\n",
    "array = np.linspace(0, 20, 6)\n",
    "print(array)\n",
    "\n",
    "arrayb = copy.deepcopy(array)\n",
    "print(arrayb)"
   ]
  },
  {
   "cell_type": "code",
   "execution_count": 12,
   "metadata": {},
   "outputs": [
    {
     "name": "stdout",
     "output_type": "stream",
     "text": [
      "[[25 16]\n",
      " [11  2]\n",
      " [13  4]\n",
      " [ 7 81]\n",
      " [ 5  6]\n",
      " [11 12]]\n"
     ]
    }
   ],
   "source": [
    "# Concatenate these 3 arrays into a new array named 'newArray'...\n",
    "#([[25, 16]])\n",
    "#     ([[11, 2], [13, 4]])\n",
    "#    ([[7, 81], [5, 6], [11, 12]])\n",
    "array1 = np.array([[25, 16]])\n",
    "array2 = np.array([[11, 2], [13, 4]])\n",
    "array3 = np.array ([[7, 81], [5, 6], [11, 12]])\n",
    "newarray = np.concatenate((array1, array2, array3), axis = 0)\n",
    "#is the axis always 0?\n",
    "print(newarray)"
   ]
  },
  {
   "cell_type": "code",
   "execution_count": 15,
   "metadata": {},
   "outputs": [
    {
     "name": "stdout",
     "output_type": "stream",
     "text": [
      "[[16 25]\n",
      " [ 2 11]\n",
      " [ 4 13]\n",
      " [ 7 81]\n",
      " [ 5  6]\n",
      " [11 12]]\n"
     ]
    }
   ],
   "source": [
    "# Sort 'newArray' in order into 'sortedArray'\n",
    "sortedArray = np.sort(newarray)\n",
    "print(sortedArray)"
   ]
  },
  {
   "cell_type": "code",
   "execution_count": null,
   "metadata": {},
   "outputs": [],
   "source": [
    "# Unpack the array tuples from the above 'reshapedArray' into 4 well named variables. Print the 4 variables.\n"
   ]
  },
  {
   "cell_type": "code",
   "execution_count": 16,
   "metadata": {},
   "outputs": [
    {
     "name": "stdout",
     "output_type": "stream",
     "text": [
      "[ 0  1  2  3  4  5  6  7 10 11 12 13 14 15 16 17 20 21 22 23 24 25 26 27]\n"
     ]
    }
   ],
   "source": [
    "# Combined and sort the following arrays into one called 'comboArray' \n",
    "# one = ([10, 11, 12, 13, 14, 15, 16, 17])\n",
    "# two = ([20, 21, 22, 23, 24, 25, 26, 27])\n",
    "# three = ([ 0, 1, 2, 3, 4, 5, 6, 7])\n",
    "one = np.array([10, 11, 12, 13, 14, 15, 16, 17])\n",
    "two = np.array([20, 21, 22, 23, 24, 25, 26, 27])\n",
    "three = ([ 0, 1, 2, 3, 4, 5, 6, 7])\n",
    "four= np.concatenate((one, two, three), axis = 0)\n",
    "\n",
    "comboArray = np.sort(four)\n",
    "print(comboArray)\n"
   ]
  },
  {
   "cell_type": "code",
   "execution_count": 61,
   "metadata": {},
   "outputs": [
    {
     "name": "stdout",
     "output_type": "stream",
     "text": [
      "1\n",
      "[ 3  4  5  6  7 10 11 12 13 14 15 16 17 20 21 22 23 24 25 26 27]\n",
      "[ 4  5  6  7 10 11 12 13 14 15 16]\n",
      "[22 23 24 25 26 27]\n",
      "[ 0  1  2  3  4  5  6  7 10 11 12 13 14 15 16 17]\n",
      "[ 0  2  4  6 10 12 14 16 20 22 24]\n",
      "[]\n"
     ]
    }
   ],
   "source": [
    "# Take 'comboArray' and perform the following slicing activities:\n",
    "\n",
    "# print sec1 - the 2nd element\n",
    "print(comboArray [1])\n",
    "\n",
    "#print sec2 - all elements from the 3rd element to the last\n",
    "print(comboArray[3:])\n",
    "\n",
    "# print sec3 - all elements from the 4th to the 14th elements\n",
    "print(comboArray[4:15])\n",
    "\n",
    "# print sec4 - the last 6 elements\n",
    "print(comboArray[-6:])\n",
    "\n",
    "# print sec5 - all element from #0 up to and including #15, using the negative number method, i.e. taking a section from the end.\n",
    "print(comboArray[:-8])\n",
    "\n",
    "# print sec6 - from #20 every even element to the end\n",
    "print(comboArray[:21:2])\n",
    "\n",
    "# print sec7 - from the last element moving forward, every 5th element.\n",
    "print(comboArray[-1::5])\n",
    "#not sure why this isn't working?\n"
   ]
  },
  {
   "cell_type": "code",
   "execution_count": 64,
   "metadata": {},
   "outputs": [
    {
     "name": "stdout",
     "output_type": "stream",
     "text": [
      "0    Flour\n",
      "1     Milk\n",
      "2     Eggs\n",
      "3     Spam\n",
      "dtype: object\n",
      "0    4\n",
      "1    1\n",
      "2    2\n",
      "3    1\n",
      "dtype: int64\n",
      "0     cups\n",
      "1      cup\n",
      "2    large\n",
      "3      can\n",
      "dtype: object\n",
      "       0  1      2\n",
      "0  Flour  4   cups\n",
      "1   Milk  1    cup\n",
      "2   Eggs  2  large\n",
      "3   Spam  1    can\n",
      "  Ingredients  Quantity   unit\n",
      "0       Flour         4   cups\n",
      "1        Milk         1    cup\n",
      "2        Eggs         2  large\n",
      "3        Spam         1    can\n"
     ]
    }
   ],
   "source": [
    "# Using Series, create a DataFrame that looks like this:\n",
    "\n",
    "import pandas as pd\n",
    "\n",
    "Ingredients = pd.Series([\"Flour\",\"Milk\",\"Eggs\",\"Spam\"])\n",
    "Quantity = pd.Series([4, 1, 2, 1])\n",
    "Unit = pd.Series([\"cups\",\"cup\",\"large\",\"can\"])\n",
    "print(Ingredients)\n",
    "print(Quantity)\n",
    "print(Unit)\n",
    "\n",
    "df = pd.concat([Ingredients, Quantity, Unit ], axis=1)\n",
    "print(df)\n",
    "\n",
    "Ingredients = pd.Series([\"Flour\",\"Milk\",\"Eggs\",\"Spam\"], name='Ingredients')\n",
    "Quantity = pd.Series([4, 1, 2, 1], name='Quantity')\n",
    "Unit  = pd.Series([\"cups\",\"cup\",\"large\",\"can\"],name= 'unit')\n",
    "df = pd.concat([Ingredients, Quantity, Unit], axis=1) #create new dataframe with column names\n",
    "print(df)\n"
   ]
  },
  {
   "cell_type": "code",
   "execution_count": 93,
   "metadata": {},
   "outputs": [
    {
     "name": "stdout",
     "output_type": "stream",
     "text": [
      "      Name  Height Qualification  address  Age        Pets           sport\n",
      "0      Jai     5.1           Msc    Delhi   21         Dog           Darts\n",
      "1  janusha     6.2            MA     Doha   23       Bunny      Basketball\n",
      "2   Gaurav     5.1           Msc  Chennai   24  Chinchilla  PaddleBoarding\n",
      "3     Anuj     5.2           Msc   Dakhar   21      Parrot         Cricket\n",
      "      Name  Height Qualification  address  Age        Pets           sport\n",
      "0      Jai     5.1           Msc    Delhi   21         Dog           Darts\n",
      "1  janusha     6.2            MA     Doha   23       Bunny      Basketball\n",
      "2   Gaurav     5.1           Msc  Chennai   24  Chinchilla  PaddleBoarding\n",
      "3     Anuj     5.2           Msc   Dakhar   21      Parrot         Cricket\n"
     ]
    }
   ],
   "source": [
    "# Take this data and create a DataFrame named studentData\n",
    "import pandas as pd\n",
    "\n",
    "data = {'Name': ['Jai', 'janusha', 'Gaurav', 'Anuj'],\n",
    "        'Height': [5.1, 6.2, 5.1, 5.2],\n",
    "        'Qualification': ['Msc', 'MA', 'Msc', 'Msc'],\n",
    "        'address': ['Delhi', 'Doha', 'Chennai', 'Dakhar'],\n",
    "        'Age': [21, 23, 24, 21],\n",
    "        'Pets': ['Dog', 'Bunny', 'Chinchilla', 'Parrot'],\n",
    "        'sport': ['Darts', 'Basketball', 'PaddleBoarding', 'Cricket']\n",
    "    }\n",
    "studentData = pd.DataFrame(data)\n",
    "print(studentData)\n",
    "\n",
    "\n",
    "studentdata = pd.concat([Name, Height, Qualification, address, Age, Pets, sport], axis=1)\n",
    "print(df)"
   ]
  },
  {
   "cell_type": "code",
   "execution_count": 116,
   "metadata": {},
   "outputs": [
    {
     "name": "stdout",
     "output_type": "stream",
     "text": [
      "      Name  Height Qualification  address  Age        Pets           sport  \\\n",
      "3     Anuj     5.2           Msc   Dakhar   21      Parrot         Cricket   \n",
      "2   Gaurav     5.1           Msc  Chennai   24  Chinchilla  PaddleBoarding   \n",
      "0      Jai     5.1           Msc    Delhi   21         Dog           Darts   \n",
      "1  janusha     6.2            MA     Doha   23       Bunny      Basketball   \n",
      "\n",
      "      Pdesserts      desserts  \n",
      "3  Carrot Halwa  Carrot Halwa  \n",
      "2       waffels       waffels  \n",
      "0     ice cream     ice cream  \n",
      "1  Cashew Fudge  Cashew Fudge  \n"
     ]
    }
   ],
   "source": [
    "import pandas as pd\n",
    "# Add a new column to the DataFrame with the following deserts: [\"ice cream\", \"Cashew Fudge\", \"waffels\", \"Carrot Halwa\"]\n",
    "desserts = pd.Series([\"ice cream\", \"Cashew Fudge\", \"waffels\", \"Carrot Halwa\"])\n",
    "studentData['desserts'] = desserts\n",
    "print(studentData)\n",
    "#Why is \"Pdesserts\" showing after I deleted?\n"
   ]
  },
  {
   "cell_type": "code",
   "execution_count": 104,
   "metadata": {},
   "outputs": [
    {
     "name": "stdout",
     "output_type": "stream",
     "text": [
      "      Name  Height Qualification  address  Age        Pets           sport  \\\n",
      "3     Anuj     5.2           Msc   Dakhar   21      Parrot         Cricket   \n",
      "2   Gaurav     5.1           Msc  Chennai   24  Chinchilla  PaddleBoarding   \n",
      "0      Jai     5.1           Msc    Delhi   21         Dog           Darts   \n",
      "1  janusha     6.2            MA     Doha   23       Bunny      Basketball   \n",
      "\n",
      "      Pdesserts      desserts  \n",
      "3  Carrot Halwa  Carrot Halwa  \n",
      "2       waffels       waffels  \n",
      "0     ice cream     ice cream  \n",
      "1  Cashew Fudge  Cashew Fudge  \n"
     ]
    }
   ],
   "source": [
    "# Sort the 'studentData' DataFrame in Ascending order -- Sorting by column 'Name' and then \"address\"\n",
    "import numpy as np\n",
    "\n",
    "studentData.sort_values(by = ['Name', 'address'], inplace = True)\n",
    "print(studentData)\n"
   ]
  },
  {
   "cell_type": "code",
   "execution_count": 106,
   "metadata": {},
   "outputs": [],
   "source": [
    "# Save this DataFrame here below to disc as a .CSV file with the name cows_and_goats.csv:df.to_csv('cows_and_goats.csv', index=False)\n",
    "\n",
    "studentData.to_csv('cows_and_goats.csv', index=False)"
   ]
  },
  {
   "cell_type": "code",
   "execution_count": null,
   "metadata": {},
   "outputs": [],
   "source": [
    "# (A) Using Pandas, make your own .CSV file with data on vegetables and save it. (B) Using Pandas, make a change to your CSV file, and save a copy with a different name."
   ]
  }
 ],
 "metadata": {
  "kernelspec": {
   "display_name": "Python 3",
   "language": "python",
   "name": "python3"
  },
  "language_info": {
   "codemirror_mode": {
    "name": "ipython",
    "version": 3
   },
   "file_extension": ".py",
   "mimetype": "text/x-python",
   "name": "python",
   "nbconvert_exporter": "python",
   "pygments_lexer": "ipython3",
   "version": "3.9.6"
  },
  "orig_nbformat": 4
 },
 "nbformat": 4,
 "nbformat_minor": 2
}
