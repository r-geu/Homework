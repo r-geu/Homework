{
 "cells": [
  {
   "cell_type": "markdown",
   "metadata": {},
   "source": [
    "### Section 5 Homework\n",
    "\n",
    "1. What does Pandas stand for?\n",
    "2. What are the 2 collections used in Pandas?\n",
    "3. Name 4 things Pandas can do for us.\n",
    "4. To permanently sort a DataFrame, which keyword should one use with the df.sort() method?\n",
    "5. What is a CSV?\n",
    "6. When cleaning data what values do we not like in our data?\n"
   ]
  },
  {
   "cell_type": "markdown",
   "metadata": {},
   "source": [
    "1. _Pandas is an open-source Python library that provides data manipulation and analysis tools_\n",
    "2. _series and data frame_\n",
    "3. _Data loading, data manipulation, data ckeaning, and data analysis_\n",
    "4. _inplace=True keyword argument with the df.sort_values() method_\n",
    "5. _Comma-Separated Values- \" It is a plain text file format used to store tabular data, where each line represents a row, and the values within each row are separated by commas (or other delimiters)._\n",
    "6. _missing values_"
   ]
  },
  {
   "cell_type": "code",
   "execution_count": 19,
   "metadata": {},
   "outputs": [
    {
     "name": "stdout",
     "output_type": "stream",
     "text": [
      "[[[ 0  1]\n",
      "  [ 2  3]\n",
      "  [ 4  5]]\n",
      "\n",
      " [[ 6  7]\n",
      "  [ 8  9]\n",
      "  [10 11]]]\n"
     ]
    }
   ],
   "source": [
    "# Import NumPy, use one of the NumPy methods and create an array with a shape of (2, 3, 2). You can use the reshape method -- .reshape()\n",
    "import numpy as np\n",
    "original_array = np.arange(12)\n",
    "\n",
    "reshape_array = original_array.reshape((2, 3, 2))\n",
    "\n",
    "print(reshape_array)\n",
    "\n"
   ]
  },
  {
   "cell_type": "code",
   "execution_count": 9,
   "metadata": {},
   "outputs": [
    {
     "name": "stdout",
     "output_type": "stream",
     "text": [
      "[ 0.  4.  8. 12. 16. 20.]\n"
     ]
    }
   ],
   "source": [
    "# Use NumPy .linspace() to create an array with 6 linearly spaced values between 0 and \n",
    "array = np.linspace(0, 20, 6)\n",
    "\n",
    "print(array)"
   ]
  },
  {
   "cell_type": "code",
   "execution_count": 11,
   "metadata": {},
   "outputs": [
    {
     "name": "stdout",
     "output_type": "stream",
     "text": [
      "[ 0.  4.  8. 12. 16. 20.]\n",
      "[ 0.  4.  8. 12. 16. 20.]\n"
     ]
    }
   ],
   "source": [
    "# Make a Deep Copy of the above array\n",
    "import copy\n",
    "array = np.linspace(0, 20, 6)\n",
    "print(array)\n",
    "\n",
    "arrayb = copy.deepcopy(array)\n",
    "print(arrayb)"
   ]
  },
  {
   "cell_type": "code",
   "execution_count": 12,
   "metadata": {},
   "outputs": [
    {
     "name": "stdout",
     "output_type": "stream",
     "text": [
      "[[25 16]\n",
      " [11  2]\n",
      " [13  4]\n",
      " [ 7 81]\n",
      " [ 5  6]\n",
      " [11 12]]\n"
     ]
    }
   ],
   "source": [
    "# Concatenate these 3 arrays into a new array named 'newArray'...\n",
    "#([[25, 16]])\n",
    "#     ([[11, 2], [13, 4]])\n",
    "#    ([[7, 81], [5, 6], [11, 12]])\n",
    "array1 = np.array([[25, 16]])\n",
    "array2 = np.array([[11, 2], [13, 4]])\n",
    "array3 = np.array ([[7, 81], [5, 6], [11, 12]])\n",
    "newarray = np.concatenate((array1, array2, array3), axis = 0)\n",
    "#is the axis always 0?\n",
    "print(newarray)"
   ]
  },
  {
   "cell_type": "code",
   "execution_count": 15,
   "metadata": {},
   "outputs": [
    {
     "name": "stdout",
     "output_type": "stream",
     "text": [
      "[[16 25]\n",
      " [ 2 11]\n",
      " [ 4 13]\n",
      " [ 7 81]\n",
      " [ 5  6]\n",
      " [11 12]]\n"
     ]
    }
   ],
   "source": [
    "# Sort 'newArray' in order into 'sortedArray'\n",
    "sortedArray = np.sort(newarray)\n",
    "print(sortedArray)"
   ]
  },
  {
   "cell_type": "code",
   "execution_count": 21,
   "metadata": {},
   "outputs": [
    {
     "name": "stdout",
     "output_type": "stream",
     "text": [
      "[[[ 0  1]\n",
      "  [ 2  3]\n",
      "  [ 4  5]]\n",
      "\n",
      " [[ 6  7]\n",
      "  [ 8  9]\n",
      "  [10 11]]]\n"
     ]
    }
   ],
   "source": [
    "# Unpack the array tuples from the above 'reshapedArray' into 4 well named variables. Print the 4 variables.\n",
    "import numpy as np\n",
    "reshape_array = original_array.reshape((2, 3, 2))\n",
    "print(reshape_array)\n"
   ]
  },
  {
   "cell_type": "code",
   "execution_count": 16,
   "metadata": {},
   "outputs": [
    {
     "name": "stdout",
     "output_type": "stream",
     "text": [
      "[ 0  1  2  3  4  5  6  7 10 11 12 13 14 15 16 17 20 21 22 23 24 25 26 27]\n"
     ]
    }
   ],
   "source": [
    "# Combined and sort the following arrays into one called 'comboArray' \n",
    "# one = ([10, 11, 12, 13, 14, 15, 16, 17])\n",
    "# two = ([20, 21, 22, 23, 24, 25, 26, 27])\n",
    "# three = ([ 0, 1, 2, 3, 4, 5, 6, 7])\n",
    "one = np.array([10, 11, 12, 13, 14, 15, 16, 17])\n",
    "two = np.array([20, 21, 22, 23, 24, 25, 26, 27])\n",
    "three = ([ 0, 1, 2, 3, 4, 5, 6, 7])\n",
    "four= np.concatenate((one, two, three), axis = 0)\n",
    "\n",
    "comboArray = np.sort(four)\n",
    "print(comboArray)\n"
   ]
  },
  {
   "cell_type": "code",
   "execution_count": 32,
   "metadata": {},
   "outputs": [
    {
     "name": "stdout",
     "output_type": "stream",
     "text": [
      "[27 22 15 10  3]\n"
     ]
    }
   ],
   "source": [
    "# Take 'comboArray' and perform the following slicing activities:\n",
    "one = np.array([10, 11, 12, 13, 14, 15, 16, 17])\n",
    "two = np.array([20, 21, 22, 23, 24, 25, 26, 27])\n",
    "three = ([ 0, 1, 2, 3, 4, 5, 6, 7])\n",
    "four= np.concatenate((one, two, three), axis = 0)\n",
    "\n",
    "comboArray = np.sort(four)\n",
    "#print(comboArray)\n",
    "\n",
    "# print sec1 - the 2nd element\n",
    "print(comboArray [1])\n",
    "\n",
    "#print sec2 - all elements from the 3rd element to the last\n",
    "print(comboArray[2:])\n",
    "\n",
    "# print sec3 - all elements from the 4th to the 14th elements\n",
    "print(comboArray[3:15])\n",
    "\n",
    "# print sec4 - the last 6 elements\n",
    "print(comboArray[-6:])\n",
    "\n",
    "# print sec5 - all element from #0 up to and including #15, using the negative number method, i.e. taking a section from the end.\n",
    "print(comboArray[:-10])\n",
    "\n",
    "# print sec6 - from #20 every even element to the end\n",
    "print(comboArray[-8::2])\n",
    "\n",
    "# print sec7 - from the last element moving forward, every 5th element.\n",
    "print(comboArray[-1::-5])\n",
    "\n"
   ]
  },
  {
   "cell_type": "code",
   "execution_count": 64,
   "metadata": {},
   "outputs": [
    {
     "name": "stdout",
     "output_type": "stream",
     "text": [
      "0    Flour\n",
      "1     Milk\n",
      "2     Eggs\n",
      "3     Spam\n",
      "dtype: object\n",
      "0    4\n",
      "1    1\n",
      "2    2\n",
      "3    1\n",
      "dtype: int64\n",
      "0     cups\n",
      "1      cup\n",
      "2    large\n",
      "3      can\n",
      "dtype: object\n",
      "       0  1      2\n",
      "0  Flour  4   cups\n",
      "1   Milk  1    cup\n",
      "2   Eggs  2  large\n",
      "3   Spam  1    can\n",
      "  Ingredients  Quantity   unit\n",
      "0       Flour         4   cups\n",
      "1        Milk         1    cup\n",
      "2        Eggs         2  large\n",
      "3        Spam         1    can\n"
     ]
    }
   ],
   "source": [
    "# Using Series, create a DataFrame that looks like this:\n",
    "\n",
    "import pandas as pd\n",
    "\n",
    "Ingredients = pd.Series([\"Flour\",\"Milk\",\"Eggs\",\"Spam\"])\n",
    "Quantity = pd.Series([4, 1, 2, 1])\n",
    "Unit = pd.Series([\"cups\",\"cup\",\"large\",\"can\"])\n",
    "print(Ingredients)\n",
    "print(Quantity)\n",
    "print(Unit)\n",
    "\n",
    "df = pd.concat([Ingredients, Quantity, Unit ], axis=1)\n",
    "print(df)\n",
    "\n",
    "Ingredients = pd.Series([\"Flour\",\"Milk\",\"Eggs\",\"Spam\"], name='Ingredients')\n",
    "Quantity = pd.Series([4, 1, 2, 1], name='Quantity')\n",
    "Unit  = pd.Series([\"cups\",\"cup\",\"large\",\"can\"],name= 'unit')\n",
    "df = pd.concat([Ingredients, Quantity, Unit], axis=1) #create new dataframe with column names\n",
    "print(df)\n"
   ]
  },
  {
   "cell_type": "code",
   "execution_count": 93,
   "metadata": {},
   "outputs": [
    {
     "name": "stdout",
     "output_type": "stream",
     "text": [
      "      Name  Height Qualification  address  Age        Pets           sport\n",
      "0      Jai     5.1           Msc    Delhi   21         Dog           Darts\n",
      "1  janusha     6.2            MA     Doha   23       Bunny      Basketball\n",
      "2   Gaurav     5.1           Msc  Chennai   24  Chinchilla  PaddleBoarding\n",
      "3     Anuj     5.2           Msc   Dakhar   21      Parrot         Cricket\n",
      "      Name  Height Qualification  address  Age        Pets           sport\n",
      "0      Jai     5.1           Msc    Delhi   21         Dog           Darts\n",
      "1  janusha     6.2            MA     Doha   23       Bunny      Basketball\n",
      "2   Gaurav     5.1           Msc  Chennai   24  Chinchilla  PaddleBoarding\n",
      "3     Anuj     5.2           Msc   Dakhar   21      Parrot         Cricket\n"
     ]
    }
   ],
   "source": [
    "# Take this data and create a DataFrame named studentData\n",
    "import pandas as pd\n",
    "\n",
    "data = {'Name': ['Jai', 'janusha', 'Gaurav', 'Anuj'],\n",
    "        'Height': [5.1, 6.2, 5.1, 5.2],\n",
    "        'Qualification': ['Msc', 'MA', 'Msc', 'Msc'],\n",
    "        'address': ['Delhi', 'Doha', 'Chennai', 'Dakhar'],\n",
    "        'Age': [21, 23, 24, 21],\n",
    "        'Pets': ['Dog', 'Bunny', 'Chinchilla', 'Parrot'],\n",
    "        'sport': ['Darts', 'Basketball', 'PaddleBoarding', 'Cricket']\n",
    "    }\n",
    "studentData = pd.DataFrame(data)\n",
    "print(studentData)\n",
    "\n",
    "\n",
    "studentdata = pd.concat([Name, Height, Qualification, address, Age, Pets, sport], axis=1)\n",
    "print(df)"
   ]
  },
  {
   "cell_type": "code",
   "execution_count": 116,
   "metadata": {},
   "outputs": [
    {
     "name": "stdout",
     "output_type": "stream",
     "text": [
      "      Name  Height Qualification  address  Age        Pets           sport  \\\n",
      "3     Anuj     5.2           Msc   Dakhar   21      Parrot         Cricket   \n",
      "2   Gaurav     5.1           Msc  Chennai   24  Chinchilla  PaddleBoarding   \n",
      "0      Jai     5.1           Msc    Delhi   21         Dog           Darts   \n",
      "1  janusha     6.2            MA     Doha   23       Bunny      Basketball   \n",
      "\n",
      "      Pdesserts      desserts  \n",
      "3  Carrot Halwa  Carrot Halwa  \n",
      "2       waffels       waffels  \n",
      "0     ice cream     ice cream  \n",
      "1  Cashew Fudge  Cashew Fudge  \n"
     ]
    }
   ],
   "source": [
    "import pandas as pd\n",
    "# Add a new column to the DataFrame with the following deserts: [\"ice cream\", \"Cashew Fudge\", \"waffels\", \"Carrot Halwa\"]\n",
    "desserts = pd.Series([\"ice cream\", \"Cashew Fudge\", \"waffels\", \"Carrot Halwa\"])\n",
    "studentData['desserts'] = desserts\n",
    "print(studentData)\n",
    "#Why is \"Pdesserts\" showing after I deleted?\n"
   ]
  },
  {
   "cell_type": "code",
   "execution_count": 104,
   "metadata": {},
   "outputs": [
    {
     "name": "stdout",
     "output_type": "stream",
     "text": [
      "      Name  Height Qualification  address  Age        Pets           sport  \\\n",
      "3     Anuj     5.2           Msc   Dakhar   21      Parrot         Cricket   \n",
      "2   Gaurav     5.1           Msc  Chennai   24  Chinchilla  PaddleBoarding   \n",
      "0      Jai     5.1           Msc    Delhi   21         Dog           Darts   \n",
      "1  janusha     6.2            MA     Doha   23       Bunny      Basketball   \n",
      "\n",
      "      Pdesserts      desserts  \n",
      "3  Carrot Halwa  Carrot Halwa  \n",
      "2       waffels       waffels  \n",
      "0     ice cream     ice cream  \n",
      "1  Cashew Fudge  Cashew Fudge  \n"
     ]
    }
   ],
   "source": [
    "# Sort the 'studentData' DataFrame in Ascending order -- Sorting by column 'Name' and then \"address\"\n",
    "import numpy as np\n",
    "\n",
    "studentData.sort_values(by = ['Name', 'address'], inplace = True)\n",
    "print(studentData)\n"
   ]
  },
  {
   "cell_type": "code",
   "execution_count": 6,
   "metadata": {},
   "outputs": [
    {
     "name": "stdout",
     "output_type": "stream",
     "text": [
      "        Cows  Goats\n",
      "Year 1    12     22\n",
      "Year 2    20     19\n"
     ]
    }
   ],
   "source": [
    "# Save this DataFrame here below to disc as a .CSV file with the name cows_and_goats.csv:df.to_csv('cows_and_goats.csv', index=False)\n",
    "import pandas as pd\n",
    "\n",
    "df = pd.DataFrame({'Cows': [12, 20], 'Goats': [22, 19]}, index=['Year 1', 'Year 2'])\n",
    "print(df)\n",
    "\n",
    "df.to_csv('cows_and_goats.csv')"
   ]
  },
  {
   "cell_type": "code",
   "execution_count": 10,
   "metadata": {},
   "outputs": [
    {
     "name": "stdout",
     "output_type": "stream",
     "text": [
      "modified_vegetables.csv\n"
     ]
    }
   ],
   "source": [
    "# (A) Using Pandas, make your own .CSV file with data on vegetables and save it. (B) Using Pandas, make a change to your CSV file, and save a copy with a different name.\n",
    "import pandas as pd\n",
    "vegetables = pd.DataFrame([[\"tomatoes\",\"lettuce\",\"spinach\"]])\n",
    "vegetables.to_csv('vegetables.csv')\n",
    "\n",
    "new_vegetables = pd.DataFrame([[\"carrots\", \"broccoli\", \"zucchini\"]])\n",
    "\n",
    "modified_vegetables = pd.concat([vegetables, new_vegetables])\n",
    "\n",
    "modified_filename = 'modified_vegetables.csv'\n",
    "\n",
    "print(modified_filename)\n"
   ]
  }
 ],
 "metadata": {
  "kernelspec": {
   "display_name": "Python 3",
   "language": "python",
   "name": "python3"
  },
  "language_info": {
   "codemirror_mode": {
    "name": "ipython",
    "version": 3
   },
   "file_extension": ".py",
   "mimetype": "text/x-python",
   "name": "python",
   "nbconvert_exporter": "python",
   "pygments_lexer": "ipython3",
   "version": "3.9.6"
  },
  "orig_nbformat": 4
 },
 "nbformat": 4,
 "nbformat_minor": 2
}
